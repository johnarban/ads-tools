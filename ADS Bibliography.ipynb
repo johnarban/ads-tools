{
 "cells": [
  {
   "cell_type": "code",
   "execution_count": 95,
   "metadata": {},
   "outputs": [],
   "source": [
    "import ads\n",
    "import requests\n",
    "import math\n",
    "import argparse\n",
    "import datetime as dt"
   ]
  },
  {
   "cell_type": "markdown",
   "metadata": {},
   "source": [
    "code source: https://github.com/adsabs/ads-examples/blob/master/library_csv/lib_2_csv.py"
   ]
  },
  {
   "cell_type": "code",
   "execution_count": 2,
   "metadata": {},
   "outputs": [],
   "source": [
    "def get_config():\n",
    "    \"\"\"\n",
    "    Load ADS developer key from file\n",
    "    :return: str\n",
    "    \"\"\"\n",
    "    #global token\n",
    "    token = None\n",
    "    if token is None:\n",
    "        try:\n",
    "            with open(os.path.expanduser('~/.ads/dev_key')) as f:\n",
    "                # ~/.ads/dev_key should contain your ADS API token\n",
    "                token = f.read().strip()\n",
    "        except IOError:\n",
    "            print('The script assumes you have your ADS developer token in the'\n",
    "                  'folder: {}'.format())\n",
    "\n",
    "    return {\n",
    "        'url': 'https://api.adsabs.harvard.edu/v1/biblib',\n",
    "        'headers': {\n",
    "            'Authorization': 'Bearer:{}'.format(token),\n",
    "            'Content-Type': 'application/json',\n",
    "        }\n",
    "    }"
   ]
  },
  {
   "cell_type": "code",
   "execution_count": 5,
   "metadata": {},
   "outputs": [],
   "source": [
    "def get_libraries():\n",
    "    \"\"\"\n",
    "    Get a list of all my libraries and their meta-data\n",
    "    :return: list\n",
    "    \"\"\"\n",
    "\n",
    "    config = get_config()\n",
    "\n",
    "    r = requests.get(\n",
    "        '{}/libraries'.format(config['url']),\n",
    "        headers=config['headers']\n",
    "    )\n",
    "\n",
    "    # Collect a list of all of our libraries, this will include the number\n",
    "    # of documents, the name, description, id, and other meta data\n",
    "    try:\n",
    "        data = r.json()['libraries']\n",
    "        return data\n",
    "    except ValueError:\n",
    "        raise ValueError(r.text)"
   ]
  },
  {
   "cell_type": "code",
   "execution_count": 201,
   "metadata": {},
   "outputs": [],
   "source": [
    "def get_library(library_id, num_documents, start = 0, rows=25):\n",
    "    \"\"\"\n",
    "    Get the content of a library when you know its id. As we paginate the\n",
    "    requests from the private library end point for document retrieval,\n",
    "    we have to repeat requests until we have all documents.\n",
    "    :param library_id: identifier of the library\n",
    "    :type library_id:\n",
    "    :param num_documents: number of documents in the library\n",
    "    :type num_documents: int\n",
    "    :param start: start with a given row\n",
    "    :type start\n",
    "    :return: list\n",
    "    \"\"\"\n",
    "\n",
    "    config = get_config()\n",
    "\n",
    "    #start = 0\n",
    "    num_documents -= start\n",
    "    #rows = 25\n",
    "    num_paginates = int(math.ceil(num_documents / (1.0*rows)))\n",
    "\n",
    "    documents = []\n",
    "    for i in range(num_paginates):\n",
    "        print('Pagination {} out of {}: rows:'.format(i+1, num_paginates))\n",
    "\n",
    "        r = requests.get(\n",
    "            '{}/libraries/{id}?start={start}&rows={rows}'.format(\n",
    "                config['url'],\n",
    "                id=library_id,\n",
    "                start=start,\n",
    "                rows=rows\n",
    "            ),\n",
    "            headers=config['headers']\n",
    "        )\n",
    "\n",
    "        # Get all the documents that are inside the library\n",
    "        try:\n",
    "            data = r.json()['documents']\n",
    "        except ValueError:\n",
    "            print('bad')\n",
    "            raise ValueError(r.text)\n",
    "\n",
    "        documents.extend(data)\n",
    "\n",
    "        start += rows\n",
    "\n",
    "    return documents"
   ]
  },
  {
   "cell_type": "code",
   "execution_count": 155,
   "metadata": {},
   "outputs": [
    {
     "name": "stdout",
     "output_type": "stream",
     "text": [
      "Pagination 1 out of 1: rows:\n"
     ]
    }
   ],
   "source": [
    "if __name__ == '__main__':\n",
    "\n",
    "\n",
    "    config = get_config()\n",
    "    \n",
    "    library_id = 'JqsNRmsURGeY3xWDdb4UWg'\n",
    "\n",
    "    r = requests.get('{}/libraries/{id}'.format(config['url'],id=library_id),\n",
    "                     headers=config['headers'])\n",
    "    metadata = r.json()['metadata']\n",
    "\n",
    "    if not os.path.isfile('bibcodes'):\n",
    "        library = get_library(library_id=metadata['id'], num_documents=metadata['num_documents'])\n",
    "        bibtex = ads.ExportQuery(library,format='bibtexabs').execute()\n",
    "        with open('bibcodes','w') as f:\n",
    "            f.writelines('{}\\n'.format(bc) for bc in library)\n",
    "        with open('library.bib','w') as f:\n",
    "            f.write(bibtex)\n",
    "\n",
    "\n",
    "\n",
    "\n",
    "    if os.path.isfile('bibcodes'):\n",
    "        with open('bibcodes','r') as f:\n",
    "            current = [i.strip() for i in f.readlines()]\n",
    "        new = get_library(library_id=metadata['id'],num_documents=metadata['num_documents'],start=len(current))\n",
    "        bibtex = ads.ExportQuery(new,format='bibtexabs').execute()\n",
    "        with open('bibcodes','a') as f:\n",
    "            f.writelines('{}\\n'.format(bc) for bc in new)\n",
    "        with open('library.bib','a') as f:\n",
    "            f.write('\\n\\n\\n\\n\\n')\n",
    "            f.write(bibtex)\n",
    "\n"
   ]
  },
  {
   "cell_type": "code",
   "execution_count": 157,
   "metadata": {},
   "outputs": [
    {
     "name": "stdout",
     "output_type": "stream",
     "text": [
      "Number of entries in library.bib\n",
      "     525\n",
      "     525 bibcodes\n"
     ]
    }
   ],
   "source": [
    "%%bash\n",
    "\n",
    "echo \"Number of entries in library.bib\"\n",
    "grep @ library.bib | wc -l\n",
    "\n",
    "wc -l bibcodes"
   ]
  },
  {
   "cell_type": "code",
   "execution_count": 214,
   "metadata": {},
   "outputs": [
    {
     "data": {
      "text/plain": [
       "{'num_documents': 499,\n",
       " 'date_last_modified': '2020-12-04T07:46:28.511540',\n",
       " 'permission': 'owner',\n",
       " 'description': 'Paper Library',\n",
       " 'public': False,\n",
       " 'num_users': 1,\n",
       " 'owner': 'john.lewis',\n",
       " 'date_created': '2020-11-01T21:22:28.618057',\n",
       " 'id': 'JqsNRmsURGeY3xWDdb4UWg',\n",
       " 'name': 'Full Library'}"
      ]
     },
     "execution_count": 214,
     "metadata": {},
     "output_type": "execute_result"
    }
   ],
   "source": [
    "config = get_config()\n",
    "\n",
    "library_id = 'JqsNRmsURGeY3xWDdb4UWg'\n",
    "\n",
    "r = requests.get('{}/libraries/{id}'.format(config['url'],id=library_id),\n",
    "                 headers=config['headers'])\n",
    "metadata = r.json()['metadata']\n",
    "\n",
    "metadata"
   ]
  },
  {
   "cell_type": "code",
   "execution_count": 235,
   "metadata": {},
   "outputs": [
    {
     "name": "stdout",
     "output_type": "stream",
     "text": [
      "Date Fri, 04 Dec 2020 09:20:23 GMT\n",
      "Content-Type application/json\n",
      "Transfer-Encoding chunked\n",
      "Connection keep-alive\n",
      "Server openresty/1.15.8.1\n",
      "Vary Accept-Encoding, Origin\n",
      "Access-Control-Allow-Origin http://0.0.0.0:8000, http://adsabs.harvard.edu, http://adsx.cfa.harvard.edu:8888, http://hourly.adslabs.org, http://localhost:8000, http://ui.adsabs.harvard.edu, http://ui.adslabs.org, https://arxiv.org, https://beta.arxiv.org, https://demo.adsabs.harvard.edu, https://dev.adsabs.harvard.edu, https://devui.adsabs.harvard.edu, https://experimental-bumblebee.us-east-1.elasticbeanstalk.com, https://prod.adsabs.harvard.edu, https://staging-bumblebee.elasticbeanstalk.com, https://staging-bumblebee.us-east-1.elasticbeanstalk.com, https://ui.adsabs.harvard.edu\n",
      "Access-Control-Allow-Methods DELETE, GET, OPTIONS, POST, PUT\n",
      "Access-Control-Allow-Headers Accept, Authorization, Content-Type, Orcid-Authorization, X-BB-Api-Client-Version, X-CSRFToken\n",
      "Access-Control-Allow-Credentials true\n",
      "X-RateLimit-Limit 500\n",
      "X-RateLimit-Remaining 155\n",
      "X-RateLimit-Reset 1607142595\n",
      "Retry-After 68971\n",
      "Set-Cookie session=.eJyrVopPK0otzlCyKikqTdVRis9MUbKqVlJIUrJSigz3NYrMSsn1C4_KjAoJNPXLdTXwDYnK9jVyLY_MCjX1DXc1iXKPNPFzibRVqgXqLUgtyk3MS80rgZlWWpxaBDZRycjQQqkWAH5lIrc.X8n_Vw.Kb-YVUDKcKAdHt0S_sakeEWMw4I; Expires=Sat, 04-Dec-2021 15:20:23 GMT; HttpOnly; Path=/\n",
      "Content-Encoding gzip\n"
     ]
    }
   ],
   "source": [
    "for i in r.headers:\n",
    "    print(i,r.headers[i])"
   ]
  },
  {
   "cell_type": "code",
   "execution_count": 203,
   "metadata": {},
   "outputs": [
    {
     "name": "stdout",
     "output_type": "stream",
     "text": [
      "Pagination 1 out of 2: rows:\n",
      "Pagination 2 out of 2: rows:\n"
     ]
    },
    {
     "data": {
      "text/plain": [
       "498"
      ]
     },
     "execution_count": 203,
     "metadata": {},
     "output_type": "execute_result"
    }
   ],
   "source": [
    "library = get_library(library_id=metadata['id'], num_documents=metadata['num_documents'],rows=500)\n",
    "len(library)"
   ]
  },
  {
   "cell_type": "code",
   "execution_count": 213,
   "metadata": {},
   "outputs": [
    {
     "data": {
      "text/plain": [
       "{'url': 'https://api.adsabs.harvard.edu/v1/biblib',\n",
       " 'headers': {'Authorization': 'Bearer:UOvspRePbNBT9fr77kwDnyIavDzrtXMYODOdGTJy',\n",
       "  'Content-Type': 'application/json'}}"
      ]
     },
     "execution_count": 213,
     "metadata": {},
     "output_type": "execute_result"
    }
   ],
   "source": [
    "config['url']"
   ]
  },
  {
   "cell_type": "code",
   "execution_count": 212,
   "metadata": {},
   "outputs": [
    {
     "data": {
      "text/plain": [
       "{}"
      ]
     },
     "execution_count": 212,
     "metadata": {},
     "output_type": "execute_result"
    }
   ],
   "source": [
    "curl -v"
   ]
  },
  {
   "cell_type": "code",
   "execution_count": 200,
   "metadata": {},
   "outputs": [
    {
     "name": "stdout",
     "output_type": "stream",
     "text": [
      "                                            NAME   ADS ID\n",
      "--------------------------------------------------------------------------------\n",
      "                   Statistics, Methods, Software   ZvchyvILRXqYLeqMUFB5sw\n",
      "                                    White Dwarfs   aKqMp4ecRnyXXRI6wk928g\n",
      "                                John Arban Lewis   0VJ8J20AQaqlWlltUKzq0Q\n",
      "Molecular Clouds & ISM - Observations and Theory   fLl7MqkLSeSjp5PCT0TJYg\n",
      "                      CO to H2 Conversion Factor   XqnGQqcEQ2qqZMxITqpGZg\n",
      "                                         history   xfqrrBfnQI-qud1QtFK5eA\n",
      "                                      CO Surveys   DH545I9FRdmwU2F8nlHlVw\n",
      "                                          Aliens   I9MzniPoQHOy6glFvb4kjA\n",
      "                                        Pedagogy   onxH5mxHQvyswBToUvBNxg\n",
      "                                     Dust to Gas   WIIJB-QyThKtqbDh6Pyr3Q\n",
      "                                          Larson   6ehH_JVmTFmNtNG4Q-wNww\n",
      "                                         Reviews   z-vL5kS4R0Cx-78fK35V_w\n",
      "                          1.2 M CO Survey Papers   7hb62rmtRZiOlXsO-dNcdQ\n",
      "                                      References   RpXmcNrpQUeHf5G7S7kBfQ\n",
      "                                        too read   Tw2Szek0Q9iw6TumL8XSug\n",
      "                                    Full Library   JqsNRmsURGeY3xWDdb4UWg\n"
     ]
    }
   ],
   "source": [
    "n = max([len(n['name']) for n in libraries])\n",
    "print(('{:>%s}   {}'%n).format('NAME','ADS ID'))\n",
    "print('-'*80)\n",
    "for item in libraries:\n",
    "    print(('{:>%s}   {}'%n).format(item['name'],item['id']))"
   ]
  },
  {
   "cell_type": "code",
   "execution_count": null,
   "metadata": {},
   "outputs": [],
   "source": []
  }
 ],
 "metadata": {
  "kernelspec": {
   "display_name": "Python 3.7.3 64-bit ('base': conda)",
   "language": "python",
   "name": "python37364bitbasecondaaa5fd408a6584bf0bc61e7d03f8fc719"
  },
  "language_info": {
   "codemirror_mode": {
    "name": "ipython",
    "version": 3
   },
   "file_extension": ".py",
   "mimetype": "text/x-python",
   "name": "python",
   "nbconvert_exporter": "python",
   "pygments_lexer": "ipython3",
   "version": "3.7.9"
  }
 },
 "nbformat": 4,
 "nbformat_minor": 4
}
